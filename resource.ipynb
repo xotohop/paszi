{
 "cells": [
  {
   "cell_type": "markdown",
   "metadata": {},
   "source": [
    "<a href=\"https://githubtocolab.com/xotohop/paszi/blob/master/resource.ipynb\" target=\"_blank\"><img align=\"left\" src=\"https://colab.research.google.com/assets/colab-badge.svg\" alt=\"Open in Colab\" title=\"Open and Execute in Google Colaboratory\"></a>"
   ]
  },
  {
   "cell_type": "markdown",
   "metadata": {},
   "source": [
    "# Модуль <strong>resource</strong>"
   ]
  },
  {
   "cell_type": "markdown",
   "metadata": {},
   "source": [
    "Модуль <strong>resource</strong> предоставляет функции, позволяющие измерять и контролировать текущие системные ресурсы, потребляемые процессом, и налагать на них ограничения, регулирующие допустимую нагрузку на систему. Документацию можно посмотреть <a href=\"https://docs.python.org/3/library/resource.html\">тут</a>."
   ]
  },
  {
   "cell_type": "markdown",
   "metadata": {},
   "source": [
    "## Текущее потребление ресурсов"
   ]
  },
  {
   "cell_type": "markdown",
   "metadata": {},
   "source": [
    "Функция <strong>getrusage()</strong> обеспечивает измерение ресурсов, используемых текущим процессом и/или его дочерними процессами. Ее возвращаемым значением является структура данных, содержащая ряд метрик, основанных на текущем состоянии ресурсов системы."
   ]
  },
  {
   "cell_type": "code",
   "execution_count": 1,
   "metadata": {},
   "outputs": [
    {
     "name": "stdout",
     "output_type": "stream",
     "text": [
      "User time                 (ru_utime  ) = 0.384806\n",
      "System time               (ru_stime  ) = 0.149871\n",
      "Max. Resident Set Size    (ru_maxrss ) = 54976\n",
      "Shared Memory Size        (ru_ixrss  ) = 0\n",
      "Unshared Memory Size      (ru_idrss  ) = 0\n",
      "Stack Size                (ru_isrss  ) = 0\n",
      "Block inputs              (ru_inblock) = 0\n",
      "Block outputs             (ru_oublock) = 72\n"
     ]
    }
   ],
   "source": [
    "import resource\n",
    "import time\n",
    "RESOURCES = [\n",
    "    ('ru_utime', 'User time'),\n",
    "    ('ru_stime', 'System time'),\n",
    "    ('ru_maxrss', 'Max. Resident Set Size'),\n",
    "    ('ru_ixrss', 'Shared Memory Size'),\n",
    "    ('ru_idrss', 'Unshared Memory Size'),\n",
    "    ('ru_isrss', 'Stack Size'),\n",
    "    ('ru_inblock', 'Block inputs'),\n",
    "    ('ru_oublock', 'Block outputs')\n",
    "]\n",
    "usage = resource.getrusage(resource.RUSAGE_SELF)\n",
    "for name, desc in RESOURCES:\n",
    "    print('{:<25} ({:<10}) = {}'.format(desc, name, getattr(usage, name)))"
   ]
  },
  {
   "cell_type": "markdown",
   "metadata": {},
   "source": [
    "В этом примере представлены не все ресурсы, доступные для измерения. Более полный\n",
    "их список из документации:"
   ]
  },
  {
   "cell_type": "markdown",
   "metadata": {},
   "source": [
    "<table class=\"docutils align-default\">\n",
    "<colgroup>\n",
    "<col style=\"width: 12%\" />\n",
    "<col style=\"width: 31%\" />\n",
    "<col style=\"width: 57%\" />\n",
    "</colgroup>\n",
    "<thead>\n",
    "<tr class=\"row-odd\"><th class=\"head\"><p>Index</p></th>\n",
    "<th class=\"head\"><p>Field</p></th>\n",
    "<th class=\"head\"><p>Resource</p></th>\n",
    "</tr>\n",
    "</thead>\n",
    "<tbody>\n",
    "<tr class=\"row-even\"><td><p><code class=\"docutils literal notranslate\"><span class=\"pre\">0</span></code></p></td>\n",
    "<td><p><code class=\"xref py py-attr docutils literal notranslate\"><span class=\"pre\">ru_utime</span></code></p></td>\n",
    "<td><p>time in user mode (float seconds)</p></td>\n",
    "</tr>\n",
    "<tr class=\"row-odd\"><td><p><code class=\"docutils literal notranslate\"><span class=\"pre\">1</span></code></p></td>\n",
    "<td><p><code class=\"xref py py-attr docutils literal notranslate\"><span class=\"pre\">ru_stime</span></code></p></td>\n",
    "<td><p>time in system mode (float seconds)</p></td>\n",
    "</tr>\n",
    "<tr class=\"row-even\"><td><p><code class=\"docutils literal notranslate\"><span class=\"pre\">2</span></code></p></td>\n",
    "<td><p><code class=\"xref py py-attr docutils literal notranslate\"><span class=\"pre\">ru_maxrss</span></code></p></td>\n",
    "<td><p>maximum resident set size</p></td>\n",
    "</tr>\n",
    "<tr class=\"row-odd\"><td><p><code class=\"docutils literal notranslate\"><span class=\"pre\">3</span></code></p></td>\n",
    "<td><p><code class=\"xref py py-attr docutils literal notranslate\"><span class=\"pre\">ru_ixrss</span></code></p></td>\n",
    "<td><p>shared memory size</p></td>\n",
    "</tr>\n",
    "<tr class=\"row-even\"><td><p><code class=\"docutils literal notranslate\"><span class=\"pre\">4</span></code></p></td>\n",
    "<td><p><code class=\"xref py py-attr docutils literal notranslate\"><span class=\"pre\">ru_idrss</span></code></p></td>\n",
    "<td><p>unshared memory size</p></td>\n",
    "</tr>\n",
    "<tr class=\"row-odd\"><td><p><code class=\"docutils literal notranslate\"><span class=\"pre\">5</span></code></p></td>\n",
    "<td><p><code class=\"xref py py-attr docutils literal notranslate\"><span class=\"pre\">ru_isrss</span></code></p></td>\n",
    "<td><p>unshared stack size</p></td>\n",
    "</tr>\n",
    "<tr class=\"row-even\"><td><p><code class=\"docutils literal notranslate\"><span class=\"pre\">6</span></code></p></td>\n",
    "<td><p><code class=\"xref py py-attr docutils literal notranslate\"><span class=\"pre\">ru_minflt</span></code></p></td>\n",
    "<td><p>page faults not requiring I/O</p></td>\n",
    "</tr>\n",
    "<tr class=\"row-odd\"><td><p><code class=\"docutils literal notranslate\"><span class=\"pre\">7</span></code></p></td>\n",
    "<td><p><code class=\"xref py py-attr docutils literal notranslate\"><span class=\"pre\">ru_majflt</span></code></p></td>\n",
    "<td><p>page faults requiring I/O</p></td>\n",
    "</tr>\n",
    "<tr class=\"row-even\"><td><p><code class=\"docutils literal notranslate\"><span class=\"pre\">8</span></code></p></td>\n",
    "<td><p><code class=\"xref py py-attr docutils literal notranslate\"><span class=\"pre\">ru_nswap</span></code></p></td>\n",
    "<td><p>number of swap outs</p></td>\n",
    "</tr>\n",
    "<tr class=\"row-odd\"><td><p><code class=\"docutils literal notranslate\"><span class=\"pre\">9</span></code></p></td>\n",
    "<td><p><code class=\"xref py py-attr docutils literal notranslate\"><span class=\"pre\">ru_inblock</span></code></p></td>\n",
    "<td><p>block input operations</p></td>\n",
    "</tr>\n",
    "<tr class=\"row-even\"><td><p><code class=\"docutils literal notranslate\"><span class=\"pre\">10</span></code></p></td>\n",
    "<td><p><code class=\"xref py py-attr docutils literal notranslate\"><span class=\"pre\">ru_oublock</span></code></p></td>\n",
    "<td><p>block output operations</p></td>\n",
    "</tr>\n",
    "<tr class=\"row-odd\"><td><p><code class=\"docutils literal notranslate\"><span class=\"pre\">11</span></code></p></td>\n",
    "<td><p><code class=\"xref py py-attr docutils literal notranslate\"><span class=\"pre\">ru_msgsnd</span></code></p></td>\n",
    "<td><p>messages sent</p></td>\n",
    "</tr>\n",
    "<tr class=\"row-even\"><td><p><code class=\"docutils literal notranslate\"><span class=\"pre\">12</span></code></p></td>\n",
    "<td><p><code class=\"xref py py-attr docutils literal notranslate\"><span class=\"pre\">ru_msgrcv</span></code></p></td>\n",
    "<td><p>messages received</p></td>\n",
    "</tr>\n",
    "<tr class=\"row-odd\"><td><p><code class=\"docutils literal notranslate\"><span class=\"pre\">13</span></code></p></td>\n",
    "<td><p><code class=\"xref py py-attr docutils literal notranslate\"><span class=\"pre\">ru_nsignals</span></code></p></td>\n",
    "<td><p>signals received</p></td>\n",
    "</tr>\n",
    "<tr class=\"row-even\"><td><p><code class=\"docutils literal notranslate\"><span class=\"pre\">14</span></code></p></td>\n",
    "<td><p><code class=\"xref py py-attr docutils literal notranslate\"><span class=\"pre\">ru_nvcsw</span></code></p></td>\n",
    "<td><p>voluntary context switches</p></td>\n",
    "</tr>\n",
    "<tr class=\"row-odd\"><td><p><code class=\"docutils literal notranslate\"><span class=\"pre\">15</span></code></p></td>\n",
    "<td><p><code class=\"xref py py-attr docutils literal notranslate\"><span class=\"pre\">ru_nivcsw</span></code></p></td>\n",
    "<td><p>involuntary context switches</p></td>\n",
    "</tr>\n",
    "</tbody>\n",
    "</table>"
   ]
  },
  {
   "cell_type": "markdown",
   "metadata": {},
   "source": [
    "## Лимитирование ресурсов"
   ]
  },
  {
   "cell_type": "markdown",
   "metadata": {},
   "source": [
    "Кроме определения текущего фактического потребления ресурсов можно проверять действующие ограничения, налагаемые на приложение, и при необходимости изменять их."
   ]
  },
  {
   "cell_type": "code",
   "execution_count": 2,
   "metadata": {},
   "outputs": [
    {
     "name": "stdout",
     "output_type": "stream",
     "text": [
      "Resource limits (soft/hard):\n",
      "core file size          0/-1\n",
      "CPU time                -1/-1\n",
      "file size               -1/-1\n",
      "heap size               -1/-1\n",
      "stack size              8388608/-1\n",
      "resident set size       -1/-1\n",
      "number of processes     11606/11606\n",
      "number of open files    4096/1048576\n",
      "lockable memory address 388829184/388829184\n"
     ]
    }
   ],
   "source": [
    "import resource\n",
    "LIMITS = [\n",
    "    ('RLIMIT_CORE', 'core file size'),\n",
    "    ('RLIMIT_CPU', 'CPU time'),\n",
    "    ('RLIMIT_FSIZE', 'file size'),\n",
    "    ('RLIMIT_DATA', 'heap size'),\n",
    "    ('RLIMIT_STACK', 'stack size'),\n",
    "    ('RLIMIT_RSS', 'resident set size'),\n",
    "    ('RLIMIT_NPROC', 'number of processes'),\n",
    "    ('RLIMIT_NOFILE', 'number of open files'),\n",
    "    ('RLIMIT_MEMLOCK', 'lockable memory address'),\n",
    "]\n",
    "print('Resource limits (soft/hard):')\n",
    "for name, desc in LIMITS:\n",
    "    limit_num = getattr(resource, name)\n",
    "    soft, hard = resource.getrlimit(limit_num)\n",
    "    print('{:<23} {}/{}'.format(desc, soft, hard))"
   ]
  },
  {
   "cell_type": "markdown",
   "metadata": {},
   "source": [
    "Чтобы изменить предельные значения, следует использовать функцию <strong>setrlimit()</strong>."
   ]
  },
  {
   "cell_type": "code",
   "execution_count": 31,
   "metadata": {},
   "outputs": [
    {
     "name": "stdout",
     "output_type": "stream",
     "text": [
      "Soft limit starts as : 70\n",
      "Soft limit changed to : 60\n",
      "random has fd = 59\n",
      "[Errno 24] Too many open files: '/dev/null'\n"
     ]
    }
   ],
   "source": [
    "import resource\n",
    "import os\n",
    "soft, hard = resource.getrlimit(resource.RLIMIT_NOFILE)\n",
    "print('Soft limit starts as :', soft)\n",
    "resource.setrlimit(resource.RLIMIT_NOFILE, (60, hard))\n",
    "soft, hard = resource.getrlimit(resource.RLIMIT_NOFILE)\n",
    "print('Soft limit changed to :', soft)\n",
    "random = open('/dev/random', 'r')\n",
    "print('random has fd =', random.fileno())\n",
    "try:\n",
    "    null = open('/dev/null', 'w')\n",
    "except IOError as err:\n",
    "    print(err)\n",
    "else:\n",
    "    print('null has fd =', null.fileno())\n"
   ]
  },
  {
   "cell_type": "markdown",
   "metadata": {},
   "source": [
    "В этом примере атрибут <strong>RLIMIT_NOFILE</strong> используется для управления разрешенным количеством одновременно открытых файлов."
   ]
  },
  {
   "cell_type": "markdown",
   "metadata": {},
   "source": [
    "Также полезно ограничивать количество времени CPU, выделяемое процессу для выполнения, чтобы не допустить чрезмерно длительного владения этим ресурсом. Если длительность выполнения процесса превышает установленный предел, он получает сигнал <strong>SIGXCPU</strong>. Подробнее про <strong>signal</strong> <a href=\"https://docs.python.org/3.8/library/signal.html\">тут</a>."
   ]
  },
  {
   "cell_type": "code",
   "execution_count": 2,
   "metadata": {},
   "outputs": [
    {
     "name": "stdout",
     "output_type": "stream",
     "text": [
      "Soft limit starts as : 2\n",
      "Soft limit changed to : 1\n",
      "\n",
      "Starting: Wed Oct  7 21:22:45 2020\n",
      "EXPIRED : Wed Oct  7 21:22:45 2020\n"
     ]
    },
    {
     "ename": "SystemExit",
     "evalue": "(time ran out)",
     "output_type": "error",
     "traceback": [
      "An exception has occurred, use %tb to see the full traceback.\n",
      "\u001b[0;31mSystemExit\u001b[0m\u001b[0;31m:\u001b[0m (time ran out)\n"
     ]
    }
   ],
   "source": [
    "import resource\n",
    "import sys\n",
    "import signal\n",
    "import time\n",
    "# установика обработчик сигнала, уведомляющий о превышении выделенного лимита процессорного времени\n",
    "def time_expired(n, stack):\n",
    "    print('EXPIRED :', time.ctime())\n",
    "    raise SystemExit('(time ran out)')\n",
    "signal.signal(signal.SIGXCPU, time_expired)\n",
    "# настройка лимита времени CPU\n",
    "soft, hard = resource.getrlimit(resource.RLIMIT_CPU)\n",
    "print('Soft limit starts as :', soft)\n",
    "resource.setrlimit(resource.RLIMIT_CPU, (1, hard))\n",
    "soft, hard = resource.getrlimit(resource.RLIMIT_CPU)\n",
    "print('Soft limit changed to :', soft)\n",
    "print()\n",
    "# израсходуем некоторое количество времени CPU для проведения длительных вычислений в цикле\n",
    "print('Starting:', time.ctime())\n",
    "for i in range(200000):\n",
    "    for i in range(200000):\n",
    "        v = i * i\n",
    "# эта инструкция будет достигнута?\n",
    "print('Exiting :', time.ctime())"
   ]
  },
  {
   "cell_type": "markdown",
   "metadata": {},
   "source": [
    "## Задания"
   ]
  },
  {
   "cell_type": "markdown",
   "metadata": {},
   "source": [
    "1. Посмотреть вывод <strong>getrusage()</strong> в более ресурсоемкой программе (например, мат. вычисления)\n",
    "2. Сделать так, чтобы была достигнута последняя инструкция из последнего примера, не уменьшая его потребление ресурсов (== не убирая вычисления в цикле)"
   ]
  }
 ],
 "metadata": {
  "kernelspec": {
   "display_name": "Python 3",
   "language": "python",
   "name": "python3"
  },
  "language_info": {
   "codemirror_mode": {
    "name": "ipython",
    "version": 3
   },
   "file_extension": ".py",
   "mimetype": "text/x-python",
   "name": "python",
   "nbconvert_exporter": "python",
   "pygments_lexer": "ipython3",
   "version": "3.8.6"
  }
 },
 "nbformat": 4,
 "nbformat_minor": 4
}
