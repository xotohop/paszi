{
 "cells": [
  {
   "cell_type": "markdown",
   "metadata": {},
   "source": [
    "<a href=\"https://githubtocolab.com/xotohop/paszi/blob/master/platform.ipynb\" target=\"_blank\"><img align=\"left\" src=\"https://colab.research.google.com/assets/colab-badge.svg\" alt=\"Open in Colab\" title=\"Open and Execute in Google Colaboratory\"></a>"
   ]
  },
  {
   "cell_type": "markdown",
   "metadata": {},
   "source": [
    "# Модуль <strong>platform</strong>"
   ]
  },
  {
   "cell_type": "markdown",
   "metadata": {},
   "source": [
    "Модуль <strong>platform</strong> позволяет извлекать информацию об интепретаторе, ОС и аппаратной платформе. Документацию можно посмотреть <a href=\"https://docs.python.org/3/library/platform.html\">тут</a>."
   ]
  },
  {
   "cell_type": "markdown",
   "metadata": {},
   "source": [
    "## Интерпретатор"
   ]
  },
  {
   "cell_type": "markdown",
   "metadata": {},
   "source": [
    "Для получения информации о текущем интерпретаторе питона используются четыре функции. Функции <strong>python_version()</strong> и <strong>python_tuple()</strong> возвращают разные формы представления. Функция <strong>python_compiler()</strong> предоставляет информацию о компиляторе, использованном для сборки  интерпретатора, а функция <strong>python_build()</strong> - строку с номером и датой сборки интерпретатора. "
   ]
  },
  {
   "cell_type": "code",
   "execution_count": 1,
   "metadata": {},
   "outputs": [
    {
     "name": "stdout",
     "output_type": "stream",
     "text": [
      "Version      : 3.8.6\n",
      "Version tuple: ('3', '8', '6')\n",
      "Compiler     : GCC 10.2.0\n",
      "Build        : ('default', 'Sep 25 2020 09:36:53')\n"
     ]
    }
   ],
   "source": [
    "import platform\n",
    "print('Version      :', platform.python_version())\n",
    "print('Version tuple:', platform.python_version_tuple())\n",
    "print('Compiler     :', platform.python_compiler())\n",
    "print('Build        :', platform.python_build())"
   ]
  },
  {
   "cell_type": "markdown",
   "metadata": {},
   "source": [
    "## Платформа"
   ]
  },
  {
   "cell_type": "markdown",
   "metadata": {},
   "source": [
    "Функция <strong>platform()</strong> возвращает строку с идентификатором платформы, имеет два необязательных булевых (<strong>True</strong>/<strong>False</strong>) аргумента: <strong>aliased</strong> и <strong>terse</strong>."
   ]
  },
  {
   "cell_type": "code",
   "execution_count": 2,
   "metadata": {},
   "outputs": [
    {
     "name": "stdout",
     "output_type": "stream",
     "text": [
      "Normal : Linux-5.8.0-kali2-amd64-x86_64-with-glibc2.29\n",
      "Aliased: Linux-5.8.0-kali2-amd64-x86_64-with-glibc2.29\n",
      "Terse  : Linux-5.8.0-kali2-amd64-x86_64-with-glibc2.29\n"
     ]
    }
   ],
   "source": [
    "import platform\n",
    "print('Normal :', platform.platform())\n",
    "print('Aliased:', platform.platform(aliased=True))\n",
    "print('Terse  :', platform.platform(terse=True))"
   ]
  },
  {
   "cell_type": "markdown",
   "metadata": {},
   "source": [
    "По идее, если аргумент <strong>aliased</strong> равен <strong>True</strong>, то возвращаемая строка должна быть более удобочитаемым, а если аргумент <strong>terse</strong> равен <strong>True</strong>, то возвращаемая строка должна быть сокращенной."
   ]
  },
  {
   "cell_type": "markdown",
   "metadata": {},
   "source": [
    "## Информация об ОС и оборудовании"
   ]
  },
  {
   "cell_type": "markdown",
   "metadata": {},
   "source": [
    "Также существует возможность получения более подробной информации об\n",
    "операционной системе и оборудовании платформы, на которой выполняется интерпретатор. Функция <strong>uname()</strong> возвращает кортеж, содержащий значения шести\n",
    "атрибутов: <strong>system</strong>, <strong>node</strong>, <strong>release</strong>, <strong>version</strong>, <strong>machine</strong> и <strong>processor</strong>. К каждому из\n",
    "этих значений можно обращаться по отдельности c помощью одноименных функций:\n",
    "\n",
    "     system()     Имя операционной системы\n",
    "     node()       Неуточненное имя хоста сервера\n",
    "     release()    Номер выпуска операционной системы\n",
    "     version()    Более подробная информация о версии системы\n",
    "     machine()    Идентификатор типа оборудования, например ’ 1386’\n",
    "     processor()  Реальный идентификатор процессора (во многих случаях совпадает со значением,\n",
    "                  возвращаемым функцией machine())\n"
   ]
  },
  {
   "cell_type": "code",
   "execution_count": 5,
   "metadata": {},
   "outputs": [
    {
     "name": "stdout",
     "output_type": "stream",
     "text": [
      "uname: uname_result(system='Linux', node='kep', release='5.8.0-kali2-amd64', version='#1 SMP Debian 5.8.10-1kali1 (2020-09-22)', machine='x86_64', processor='')\n",
      "\n",
      "system   : Linux\n",
      "node     : kep\n",
      "release  : 5.8.0-kali2-amd64\n",
      "version  : #1 SMP Debian 5.8.10-1kali1 (2020-09-22)\n",
      "machine  : x86_64\n",
      "processor: \n"
     ]
    }
   ],
   "source": [
    "import platform\n",
    "print('uname:', platform.uname())\n",
    "print()\n",
    "print('system   :', platform.system())\n",
    "print('node     :', platform.node())\n",
    "print('release  :', platform.release())\n",
    "print('version  :', platform.version())\n",
    "print('machine  :', platform.machine())\n",
    "print('processor:', platform.processor())"
   ]
  },
  {
   "cell_type": "markdown",
   "metadata": {},
   "source": [
    "## Архитектура исполняемой программы"
   ]
  },
  {
   "cell_type": "markdown",
   "metadata": {},
   "source": [
    "Информацию об архитектуре отдельной программы можно получить c помощью функции <strong>architecture()</strong>. Ее первым аргументом является путь к исполняемой программе (по умолчанию — sys.executable, интерпретатор Python), а\n",
    "возвращаемым значением — кортеж, содержащий разрядность архитектуры и используемый формат связывания."
   ]
  },
  {
   "cell_type": "code",
   "execution_count": 6,
   "metadata": {},
   "outputs": [
    {
     "name": "stdout",
     "output_type": "stream",
     "text": [
      "interpreter: ('64bit', 'ELF')\n",
      "/bin/ls    : ('64bit', 'ELF')\n"
     ]
    }
   ],
   "source": [
    "import platform\n",
    "print('interpreter:', platform.architecture())\n",
    "print('/bin/ls    :', platform.architecture('/bin/ls'))"
   ]
  },
  {
   "cell_type": "markdown",
   "metadata": {},
   "source": [
    "## Задание"
   ]
  },
  {
   "cell_type": "markdown",
   "metadata": {},
   "source": [
    "Проделать все, что есть в блокноте, в минимум двух ОС: Windows/Linux, Windows/OS X, Linux/OS X и др. Поверьте, выводы будут немного разные!"
   ]
  }
 ],
 "metadata": {
  "kernelspec": {
   "display_name": "Python 3",
   "language": "python",
   "name": "python3"
  },
  "language_info": {
   "codemirror_mode": {
    "name": "ipython",
    "version": 3
   },
   "file_extension": ".py",
   "mimetype": "text/x-python",
   "name": "python",
   "nbconvert_exporter": "python",
   "pygments_lexer": "ipython3",
   "version": "3.8.6"
  }
 },
 "nbformat": 4,
 "nbformat_minor": 4
}
