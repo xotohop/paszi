{
 "cells": [
  {
   "cell_type": "markdown",
   "metadata": {},
   "source": [
    "<a href=\"https://colab.research.google.com/github/xotohop/paszi/blob/master/operator_contextlib.ipynb\" target=\"_blank\"><img align=\"left\" src=\"https://colab.research.google.com/assets/colab-badge.svg\" alt=\"Open in Colab\" title=\"Open and Execute in Google Colaboratory\"></a>"
   ]
  },
  {
   "cell_type": "markdown",
   "metadata": {},
   "source": [
    "# operator"
   ]
  },
  {
   "cell_type": "markdown",
   "metadata": {},
   "source": [
    "Модуль <strong>operator</strong> содержит функции, которые соответствуют встроенным арифметическим операторам, операторам сравнения и другим стандартным операторам."
   ]
  },
  {
   "cell_type": "code",
   "execution_count": 1,
   "metadata": {},
   "outputs": [],
   "source": [
    "from operator import *"
   ]
  },
  {
   "cell_type": "markdown",
   "metadata": {},
   "source": [
    "## Логические операции"
   ]
  },
  {
   "cell_type": "markdown",
   "metadata": {},
   "source": [
    "Функция <strong>is_()</strong> реализует ту же проверку , что и <strong>is</strong>, а функция <strong>is_not()</strong> выполняет ту же проверку, но возвращает противоположный результат."
   ]
  },
  {
   "cell_type": "code",
   "execution_count": 2,
   "metadata": {},
   "outputs": [
    {
     "name": "stdout",
     "output_type": "stream",
     "text": [
      "is_(a, b):    False\n",
      "is_not(a, b): True\n",
      "\n",
      "b == c:       True\n",
      "is_(b, c):    False\n"
     ]
    }
   ],
   "source": [
    "a = -1\n",
    "b = 5\n",
    "c = float(5)\n",
    "\n",
    "print('is_(a, b):   ', is_(a, b))\n",
    "print('is_not(a, b):', is_not(a, b))\n",
    "print()\n",
    "\n",
    "print('b == c:      ', b == c)\n",
    "print('is_(b, c):   ', is_(b, c))"
   ]
  },
  {
   "cell_type": "markdown",
   "metadata": {},
   "source": [
    "<strong>==</strong> - проверяет значения\n",
    "\n",
    "<strong>is/is_</strong> - проверяет идентичность"
   ]
  },
  {
   "cell_type": "markdown",
   "metadata": {},
   "source": [
    "## Операторы сравнения"
   ]
  },
  {
   "cell_type": "markdown",
   "metadata": {},
   "source": [
    "Поддерживаются все операторы сравнения: <, <=, ==, !=, >=, >,\n",
    "соответствующие им функции: <strong>lt</strong>, <strong>le</strong>, <strong>eq</strong>, <strong>ne</strong>, <strong>ge</strong>, <strong>gt</strong>"
   ]
  },
  {
   "cell_type": "code",
   "execution_count": 3,
   "metadata": {},
   "outputs": [
    {
     "name": "stdout",
     "output_type": "stream",
     "text": [
      "lt(a, b):  True\n",
      "le(a, b):  True\n",
      "eq(a, b):  False\n",
      "ne(a, b):  True\n",
      "ge(a, b):  False\n",
      "gt(a, b):  False\n"
     ]
    }
   ],
   "source": [
    "а = 1\n",
    "b = 5.0\n",
    "\n",
    "print('lt(a, b): ', lt(a, b)) # <\n",
    "print('le(a, b): ', le(a, b)) # <=\n",
    "print('eq(a, b): ', eq(a, b)) # ==\n",
    "print('ne(a, b): ', ne(a, b)) # !=\n",
    "print('ge(a, b): ', ge(a, b)) # >=\n",
    "print('gt(a, b): ', gt(a, b)) # >"
   ]
  },
  {
   "cell_type": "markdown",
   "metadata": {},
   "source": [
    "## Арифметические операторы"
   ]
  },
  {
   "cell_type": "markdown",
   "metadata": {},
   "source": [
    "Поддерживаются также арифметические операторы для манипулирования числовыми значениями."
   ]
  },
  {
   "cell_type": "code",
   "execution_count": 4,
   "metadata": {},
   "outputs": [
    {
     "name": "stdout",
     "output_type": "stream",
     "text": [
      "\n",
      "Positive/Negative:\n",
      "abs(a): 1\n",
      "neg(a): 1\n",
      "neg(b): -5.0\n",
      "pos(a): -1\n",
      "pos(b): 5.0\n",
      "\n",
      "Arithmetic:\n",
      "add(a, b)     : 4.0\n",
      "mod(a, b)     : 4.0\n",
      "mul(a, b)     : -5.0\n",
      "pow(c,d)      : 64\n",
      "sub(b, а)     : 6.0\n",
      "truediv(a, b) : -0.2\n",
      "truediv(d,c)  : 3.0\n"
     ]
    }
   ],
   "source": [
    "a = -1\n",
    "b = 5.0\n",
    "c = 2\n",
    "d = 6\n",
    "\n",
    "print('\\nPositive/Negative:')\n",
    "print('abs(a):', abs(a))\n",
    "print('neg(a):', nOpen in Colab\n",
    "eg(a))\n",
    "print('neg(b):', neg(b))\n",
    "print('pos(a):', pos(a))\n",
    "print('pos(b):', pos(b))\n",
    "\n",
    "print('\\nArithmetic:')\n",
    "print('add(a, b)     :', add(a, b))\n",
    "print('mod(a, b)     :', mod(a, b))\n",
    "print('mul(a, b)     :', mul(a, b))\n",
    "print('pow(c,d)      :', pow(c, d))\n",
    "print('sub(b, а)     :', sub(b, a))\n",
    "print('truediv(a, b) :', truediv(a, b))\n",
    "print('truediv(d,c)  :', truediv(d, c))"
   ]
  },
  {
   "cell_type": "markdown",
   "metadata": {},
   "source": [
    "## Операторы для работы с последовательностями"
   ]
  },
  {
   "cell_type": "markdown",
   "metadata": {},
   "source": [
    "Операторы для работы c последовательностями можно разбить на четыре группы: создание последовательностей, поиск элементов, доступ к содержимому и удаление элементов последовательности."
   ]
  },
  {
   "cell_type": "code",
   "execution_count": 5,
   "metadata": {},
   "outputs": [
    {
     "name": "stdout",
     "output_type": "stream",
     "text": [
      "\n",
      "Constructive:\n",
      "    concat(a, b): [1, 2, 3, 'a', 'b', 'c']\n",
      "\n",
      "Searching:\n",
      "    contains(a, 1)  : True\n",
      "    contains(b, \"d\"): False\n",
      "    countOf(a, 1)   : 1\n",
      "    countOf(b, \"d\") : 0\n",
      "    indexOf(a, 3)   : 2\n",
      "\n",
      "Access Items:\n",
      "    getitem(b, 1)                : c\n",
      "    getitem(b, slice(1, 3))      : ['b', 'c']\n",
      "    setitem(b, 1, \"d\")           : ['a', 'd', 'c']\n",
      "    setitem(a, slice(1,3), [4,5]): [1, 4, 5]\n",
      "\n",
      "Destructive:\n",
      "    delitem(b, 1): ['a', 'c']\n",
      "    delitem(a, slice(1, 3)): [1]\n"
     ]
    }
   ],
   "source": [
    "a = [1, 2, 3]\n",
    "b = ['a', 'b', 'c']\n",
    "\n",
    "print('\\nConstructive:')\n",
    "print('    concat(a, b):', concat(a, b))\n",
    "\n",
    "print('\\nSearching:')\n",
    "print('    contains(a, 1)  :', contains(a, 1))\n",
    "print('    contains(b, \"d\"):', contains(b, \"d\"))\n",
    "print('    countOf(a, 1)   :', countOf(a, 1))\n",
    "print('    countOf(b, \"d\") :', countOf(b, \"d\"))\n",
    "print('    indexOf(a, 3)   :', indexOf(a, 3))\n",
    "\n",
    "print('\\nAccess Items:')\n",
    "print('    getitem(b, 1)                :', getitem(b, 2))\n",
    "print('    getitem(b, slice(1, 3))      :', getitem(b, slice(1, 3)))\n",
    "print('    setitem(b, 1, \"d\")           :', end=' ')\n",
    "setitem(b, 1, \"d\")\n",
    "print(b)\n",
    "print('    setitem(a, slice(1,3), [4,5]):', end=' ')\n",
    "setitem(a, slice(1, 3), [4, 5])\n",
    "print(a)\n",
    "\n",
    "print('\\nDestructive:')\n",
    "print('    delitem(b, 1):', end=' ')\n",
    "delitem(b, 1)\n",
    "print(b)\n",
    "print('    delitem(a, slice(1, 3)):', end=' ')\n",
    "delitem(a, slice(1, 3))\n",
    "print(a)"
   ]
  },
  {
   "cell_type": "markdown",
   "metadata": {},
   "source": [
    "Подробнее о модуле: <a href=\"https://docs.python.org/3/library/operator.html\" target=\"blink\">ТЫК</a>."
   ]
  },
  {
   "cell_type": "markdown",
   "metadata": {},
   "source": [
    "## Задание"
   ]
  },
  {
   "cell_type": "markdown",
   "metadata": {},
   "source": [
    "Есть три списка: \n",
    "\n",
    "list1 = [1]\n",
    "\n",
    "list2 = [1]\n",
    "\n",
    "list3 = list1\n",
    "\n",
    "Проверить списки на идентичность и объяснить выводы функции."
   ]
  },
  {
   "cell_type": "markdown",
   "metadata": {},
   "source": [
    "# contextlib"
   ]
  },
  {
   "cell_type": "markdown",
   "metadata": {},
   "source": [
    "Модуль <strong>contextlib</strong> содержит вспомогательные функции для работы c менеджерами контекста и инструкцией <strong>with</strong>. Документация <a href=\"https://docs.python.org/3/library/contextlib.html\" target=\"_blank\">тут</a>."
   ]
  },
  {
   "cell_type": "markdown",
   "metadata": {},
   "source": [
    "## API (АПИ) менеджера контекста"
   ]
  },
  {
   "cell_type": "markdown",
   "metadata": {},
   "source": [
    "Контекстный менеджер используется для выполнения каких либо действий до входа в блок и после выхода из него. Например, файлы поддерживают API менеджера контекста, гарантирующего закрытие файла по завершении чтения или записи данных."
   ]
  },
  {
   "cell_type": "code",
   "execution_count": 14,
   "metadata": {},
   "outputs": [],
   "source": [
    "f = open('./pymotw.txt', 'w')\n",
    "f.write('contents go here (1)')\n",
    "f.close()"
   ]
  },
  {
   "cell_type": "code",
   "execution_count": 15,
   "metadata": {},
   "outputs": [
    {
     "name": "stdout",
     "output_type": "stream",
     "text": [
      "contents go here (1)"
     ]
    }
   ],
   "source": [
    "!cat pymotw.txt"
   ]
  },
  {
   "cell_type": "code",
   "execution_count": 16,
   "metadata": {},
   "outputs": [],
   "source": [
    "with open('./pymotw.txt', 'w') as f:\n",
    "    f.write('contents go here (2)')"
   ]
  },
  {
   "cell_type": "code",
   "execution_count": 17,
   "metadata": {},
   "outputs": [
    {
     "name": "stdout",
     "output_type": "stream",
     "text": [
      "contents go here (2)"
     ]
    }
   ],
   "source": [
    "!cat pymotw.txt"
   ]
  },
  {
   "cell_type": "markdown",
   "metadata": {},
   "source": [
    "Менеджер контекста активизируется инструкцией <strong>with</strong>, а соответствующий API включает два метода. Метод <strong>__enter__()</strong> выполняется при входе в блок кода инструкции <strong>with</strong>. Он возвращает объект, который будет использоваться в пределах данного контекста. Когда поток управления покидает блок <strong>with</strong>, вызывается метод <strong>__exit__()</strong> менеджера контекста, освобождающий использованные ресурсы."
   ]
  },
  {
   "cell_type": "code",
   "execution_count": 19,
   "metadata": {},
   "outputs": [
    {
     "name": "stdout",
     "output_type": "stream",
     "text": [
      "__init__()\n",
      "__enter__()\n",
      "Doing work in the context\n",
      "__exit__()\n"
     ]
    }
   ],
   "source": [
    "class Context:\n",
    "    \n",
    "    def __init__(self):\n",
    "        print('__init__()')\n",
    "    \n",
    "    def __enter__(self):\n",
    "        print('__enter__()')\n",
    "        return self\n",
    "    \n",
    "    def __exit__(self, exc_type, exc_val, exc_tb):\n",
    "        print('__exit__()')\n",
    "\n",
    "with Context():\n",
    "    print('Doing work in the context')"
   ]
  },
  {
   "cell_type": "markdown",
   "metadata": {},
   "source": [
    "Метод <strong>__exit__()</strong> получает аргументы, содержащие подробную информацию о любом исключении, возникающем в пределах блока __with__."
   ]
  },
  {
   "cell_type": "code",
   "execution_count": 20,
   "metadata": {},
   "outputs": [
    {
     "name": "stdout",
     "output_type": "stream",
     "text": [
      "__init__(True)\n",
      "__enter__()\n",
      "__exit__()\n",
      "exc_type = <class 'RuntimeError'>\n",
      "exc_val = error message handled\n",
      "exc_tb= <traceback object at 0x7fb578081380>\n",
      "\n",
      "__init__(False)\n",
      "__enter__()\n",
      "__exit__()\n",
      "exc_type = <class 'RuntimeError'>\n",
      "exc_val = error message propagated\n",
      "exc_tb= <traceback object at 0x7fb57808ff80>\n"
     ]
    },
    {
     "ename": "RuntimeError",
     "evalue": "error message propagated",
     "output_type": "error",
     "traceback": [
      "\u001b[0;31m---------------------------------------------------------------------------\u001b[0m",
      "\u001b[0;31mRuntimeError\u001b[0m                              Traceback (most recent call last)",
      "\u001b[0;32m<ipython-input-20-ee426bb299fd>\u001b[0m in \u001b[0;36m<module>\u001b[0;34m\u001b[0m\n\u001b[1;32m     22\u001b[0m \u001b[0;34m\u001b[0m\u001b[0m\n\u001b[1;32m     23\u001b[0m \u001b[0;32mwith\u001b[0m \u001b[0mContext\u001b[0m\u001b[0;34m(\u001b[0m\u001b[0;32mFalse\u001b[0m\u001b[0;34m)\u001b[0m\u001b[0;34m:\u001b[0m\u001b[0;34m\u001b[0m\u001b[0;34m\u001b[0m\u001b[0m\n\u001b[0;32m---> 24\u001b[0;31m     \u001b[0;32mraise\u001b[0m \u001b[0mRuntimeError\u001b[0m \u001b[0;34m(\u001b[0m\u001b[0;34m'error message propagated'\u001b[0m\u001b[0;34m)\u001b[0m\u001b[0;34m\u001b[0m\u001b[0;34m\u001b[0m\u001b[0m\n\u001b[0m",
      "\u001b[0;31mRuntimeError\u001b[0m: error message propagated"
     ]
    }
   ],
   "source": [
    "class Context:\n",
    "    \n",
    "    def __init__(self, handle_error):\n",
    "        print('__init__({})'.format(handle_error))\n",
    "        self.handle_error = handle_error\n",
    "    \n",
    "    def __enter__(self):\n",
    "        print('__enter__()')\n",
    "        return self\n",
    "    \n",
    "    def __exit__(self, exc_type, exc_val, exc_tb):\n",
    "        print('__exit__()')\n",
    "        print('exc_type =', exc_type)\n",
    "        print('exc_val =', exc_val)\n",
    "        print('exc_tb=', exc_tb)\n",
    "        return self.handle_error\n",
    "\n",
    "with Context(True):\n",
    "    raise RuntimeError ('error message handled')\n",
    "\n",
    "print()\n",
    "\n",
    "with Context(False):\n",
    "    raise RuntimeError ('error message propagated')"
   ]
  },
  {
   "cell_type": "markdown",
   "metadata": {},
   "source": [
    "Если менеджер контекста может обрабатывать исключения, то метод __exit()__ должен возвращать истинное значение, указывающее на то, что исключение не должно распространяться. Возврат ложного значения приводит к повторному возбуждению исключения после выхода из метода __exit()__."
   ]
  },
  {
   "cell_type": "markdown",
   "metadata": {},
   "source": [
    "## Менеджеры контекста как декораторы функций"
   ]
  },
  {
   "cell_type": "markdown",
   "metadata": {},
   "source": [
    "Класс __ContextDecorator__ добавляет в классы контекстных менеджеров поддержку, позволяющую использовать их не только в качестве менеджеров контекста, но и в качестве декораторов функций. О том, что такое декораторы, можете прочитать <a href=\"https://habr.com/ru/post/141411/\" target=\"_blank\">тут</a>."
   ]
  },
  {
   "cell_type": "code",
   "execution_count": 22,
   "metadata": {},
   "outputs": [
    {
     "name": "stdout",
     "output_type": "stream",
     "text": [
      "__init__(as context manager)\n",
      "__enter__(as context manager)\n",
      "Doing work in the context\n",
      "__exit__(as context manager)\n",
      "\n",
      "__init__(as decorator)\n",
      "__enter__(as decorator)\n",
      "Doing work in the wrapped function\n",
      "__exit__(as decorator)\n"
     ]
    }
   ],
   "source": [
    "import contextlib\n",
    "\n",
    "class Context(contextlib.ContextDecorator):\n",
    "    \n",
    "    def __init__(self, how_used):\n",
    "        self.how_used = how_used\n",
    "        print('__init__({})'.format(how_used))\n",
    "        \n",
    "    def __enter__(self):\n",
    "        print('__enter__({})'.format(self.how_used))\n",
    "        return self\n",
    "    \n",
    "    def __exit__(self, exc_type, exc_val, exc_tb):\n",
    "        print('__exit__({})'.format(self.how_used))\n",
    "\n",
    "with Context('as context manager'):\n",
    "    print('Doing work in the context')\n",
    "\n",
    "print()\n",
    "@Context('as decorator')\n",
    "def func(message):\n",
    "    print(message)\n",
    "func('Doing work in the wrapped function')"
   ]
  },
  {
   "cell_type": "markdown",
   "metadata": {},
   "source": [
    "## Закрытие открытых дескрипторов"
   ]
  },
  {
   "cell_type": "markdown",
   "metadata": {},
   "source": [
    "Некоторые другие устаревшие классы (в отличие, например, от класса __file__) используют метод __close()__, но не поддерживают АРI менеджера контекста. Гарантированное закрытие дескриптора обеспечивается созданием для него менеджера контекста c помощью функции __closing()__."
   ]
  },
  {
   "cell_type": "code",
   "execution_count": 24,
   "metadata": {},
   "outputs": [
    {
     "name": "stdout",
     "output_type": "stream",
     "text": [
      "Normal Example:\n",
      "__init__()\n",
      "inside with statement: open\n",
      "close()\n",
      "outside with statement: closed\n",
      "\n",
      "Error handling example:\n",
      "__init__()\n",
      "raising from inside with statement\n",
      "close()\n",
      "Had an error: error message\n"
     ]
    }
   ],
   "source": [
    "import contextlib\n",
    "\n",
    "class Door:\n",
    "    \n",
    "    def __init__(self):\n",
    "        print('__init__()')\n",
    "        self.status = 'open'\n",
    "    \n",
    "    def close(self):\n",
    "        print('close()')\n",
    "        self.status = 'closed'\n",
    "\n",
    "print('Normal Example:')\n",
    "with contextlib.closing(Door()) as door:\n",
    "    print('inside with statement: {}'.format(door.status))\n",
    "print('outside with statement: {}'.format(door.status))\n",
    "\n",
    "print('\\nError handling example:')\n",
    "try:\n",
    "    with contextlib.closing(Door()) as door:\n",
    "        print('raising from inside with statement')\n",
    "        raise RuntimeError('error message')\n",
    "except Exception as err:\n",
    "    print('Had an error:', err)"
   ]
  },
  {
   "cell_type": "markdown",
   "metadata": {},
   "source": [
    "Дескриптор закрывается независимо от того, возникла или не возникла ошибка в блоке __with__."
   ]
  },
  {
   "cell_type": "markdown",
   "metadata": {},
   "source": [
    "## Игнорирование исключений"
   ]
  },
  {
   "cell_type": "markdown",
   "metadata": {},
   "source": [
    "Во многих случаях исключения, возбуждаемые библиотеками, удобно игнорировать, если ошибка указывает на достижение определенного состояния или может быть проигнорирована по другим причинам. Например, вот так:"
   ]
  },
  {
   "cell_type": "code",
   "execution_count": 27,
   "metadata": {},
   "outputs": [
    {
     "name": "stdout",
     "output_type": "stream",
     "text": [
      "trying non-idempotent operation\n",
      "done\n"
     ]
    }
   ],
   "source": [
    "class NonFatalError(Exception):\n",
    "    pass\n",
    "\n",
    "def non_idempotent_operation():\n",
    "    raise NonFatalError(\n",
    "        'The operation failed because of existing state'\n",
    "    )\n",
    "\n",
    "try:\n",
    "    print('trying non-idempotent operation')\n",
    "    non_idempotent_operation()\n",
    "    print('succeeded!')\n",
    "except NonFatalError:\n",
    "    pass\n",
    "    \n",
    "print('done')"
   ]
  },
  {
   "cell_type": "markdown",
   "metadata": {},
   "source": [
    "Форму __try:except__ можно заменить формой __contextlib.suppress()__ для подавления класса исключений, возникающих в пределах блока __with__."
   ]
  },
  {
   "cell_type": "code",
   "execution_count": 28,
   "metadata": {},
   "outputs": [
    {
     "name": "stdout",
     "output_type": "stream",
     "text": [
      "trying non-idempotent operation\n",
      "done\n"
     ]
    }
   ],
   "source": [
    "import contextlib\n",
    "\n",
    "class NonFatalError(Exception):\n",
    "    pass\n",
    "\n",
    "def non_idempotent_operation():\n",
    "    raise NonFatalError(\n",
    "        'The operation failed because of existing state'\n",
    "    )\n",
    "    \n",
    "with contextlib.suppress(NonFatalError):\n",
    "    print('trying non-idempotent operation')\n",
    "    non_idempotent_operation()\n",
    "    print('succeeded!')\n",
    "    \n",
    "print('done')"
   ]
  },
  {
   "cell_type": "markdown",
   "metadata": {},
   "source": [
    "<a href=\"https://habr.com/ru/post/196382/\" target=\"_blank\">Cтатья</a> на хабре. Часть статьи посвящена контекстным менеджерам и модулю <strong>contextlib</strong>"
   ]
  },
  {
   "cell_type": "markdown",
   "metadata": {},
   "source": [
    "## Задание"
   ]
  },
  {
   "cell_type": "markdown",
   "metadata": {},
   "source": [
    "Создать класс для работы (открыть-закрыть) с БД SQLite c API контекстного менеджера (init, enter, exit)."
   ]
  }
 ],
 "metadata": {
  "kernelspec": {
   "display_name": "Python 3",
   "language": "python",
   "name": "python3"
  },
  "language_info": {
   "codemirror_mode": {
    "name": "ipython",
    "version": 3
   },
   "file_extension": ".py",
   "mimetype": "text/x-python",
   "name": "python",
   "nbconvert_exporter": "python",
   "pygments_lexer": "ipython3",
   "version": "3.8.6"
  }
 },
 "nbformat": 4,
 "nbformat_minor": 4
}
