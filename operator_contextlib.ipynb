{
 "cells": [
  {
   "cell_type": "markdown",
   "metadata": {},
   "source": [
    "<a href=\"https://colab.research.google.com/github/xotohop/paszi/blob/master/operator_contextlib.ipynb\" target=\"_blank\"><img align=\"left\" src=\"https://colab.research.google.com/assets/colab-badge.svg\" alt=\"Open in Colab\" title=\"Open and Execute in Google Colaboratory\"></a>"
   ]
  },
  {
   "cell_type": "markdown",
   "metadata": {},
   "source": [
    "# operator"
   ]
  },
  {
   "cell_type": "markdown",
   "metadata": {},
   "source": [
    "Модуль <strong>operator</strong> содержит функции, которые соответствуют встроенным арифметическим операторам, операторам сравнения и другим стандартным операторам."
   ]
  },
  {
   "cell_type": "code",
   "execution_count": 1,
   "metadata": {},
   "outputs": [],
   "source": [
    "from operator import *"
   ]
  },
  {
   "cell_type": "markdown",
   "metadata": {},
   "source": [
    "## Логические операции"
   ]
  },
  {
   "cell_type": "markdown",
   "metadata": {},
   "source": [
    "Функция <strong>is_()</strong> реализует ту же проверку , что и <strong>is</strong>, а функция <strong>is_not()</strong> выполняет ту же проверку, но возвращает противоположный результат."
   ]
  },
  {
   "cell_type": "code",
   "execution_count": 2,
   "metadata": {},
   "outputs": [
    {
     "name": "stdout",
     "output_type": "stream",
     "text": [
      "is_(a, b):    False\n",
      "is_not(a, b): True\n",
      "\n",
      "b == c:       True\n",
      "is_(b, c):    False\n"
     ]
    }
   ],
   "source": [
    "a = -1\n",
    "b = 5\n",
    "c = float(5)\n",
    "\n",
    "print('is_(a, b):   ', is_(a, b))\n",
    "print('is_not(a, b):', is_not(a, b))\n",
    "print()\n",
    "\n",
    "print('b == c:      ', b == c)\n",
    "print('is_(b, c):   ', is_(b, c))"
   ]
  },
  {
   "cell_type": "markdown",
   "metadata": {},
   "source": [
    "<strong>==</strong> - проверяет значения\n",
    "\n",
    "<strong>is/is_</strong> - проверяет идентичность"
   ]
  },
  {
   "cell_type": "markdown",
   "metadata": {},
   "source": [
    "## Операторы сравнения"
   ]
  },
  {
   "cell_type": "markdown",
   "metadata": {},
   "source": [
    "Поддерживаются все операторы сравнения: <, <=, ==, !=, >=, >,\n",
    "соответствующие им функции: <strong>lt</strong>, <strong>le</strong>, <strong>eq</strong>, <strong>ne</strong>, <strong>ge</strong>, <strong>gt</strong>"
   ]
  },
  {
   "cell_type": "code",
   "execution_count": 3,
   "metadata": {},
   "outputs": [
    {
     "name": "stdout",
     "output_type": "stream",
     "text": [
      "lt(a, b):  True\n",
      "le(a, b):  True\n",
      "eq(a, b):  False\n",
      "ne(a, b):  True\n",
      "ge(a, b):  False\n",
      "gt(a, b):  False\n"
     ]
    }
   ],
   "source": [
    "а = 1\n",
    "b = 5.0\n",
    "\n",
    "print('lt(a, b): ', lt(a, b)) # <\n",
    "print('le(a, b): ', le(a, b)) # <=\n",
    "print('eq(a, b): ', eq(a, b)) # ==\n",
    "print('ne(a, b): ', ne(a, b)) # !=\n",
    "print('ge(a, b): ', ge(a, b)) # >=\n",
    "print('gt(a, b): ', gt(a, b)) # >"
   ]
  },
  {
   "cell_type": "markdown",
   "metadata": {},
   "source": [
    "## Арифметические операторы"
   ]
  },
  {
   "cell_type": "markdown",
   "metadata": {},
   "source": [
    "Поддерживаются также арифметические операторы для манипулирования числовыми значениями."
   ]
  },
  {
   "cell_type": "code",
   "execution_count": 4,
   "metadata": {},
   "outputs": [
    {
     "name": "stdout",
     "output_type": "stream",
     "text": [
      "\n",
      "Positive/Negative:\n",
      "abs(a): 1\n",
      "neg(a): 1\n",
      "neg(b): -5.0\n",
      "pos(a): -1\n",
      "pos(b): 5.0\n",
      "\n",
      "Arithmetic:\n",
      "add(a, b)     : 4.0\n",
      "mod(a, b)     : 4.0\n",
      "mul(a, b)     : -5.0\n",
      "pow(c,d)      : 64\n",
      "sub(b, а)     : 6.0\n",
      "truediv(a, b) : -0.2\n",
      "truediv(d,c)  : 3.0\n"
     ]
    }
   ],
   "source": [
    "a = -1\n",
    "b = 5.0\n",
    "c = 2\n",
    "d = 6\n",
    "\n",
    "print('\\nPositive/Negative:')\n",
    "print('abs(a):', abs(a))\n",
    "print('neg(a):', nOpen in Colab\n",
    "eg(a))\n",
    "print('neg(b):', neg(b))\n",
    "print('pos(a):', pos(a))\n",
    "print('pos(b):', pos(b))\n",
    "\n",
    "print('\\nArithmetic:')\n",
    "print('add(a, b)     :', add(a, b))\n",
    "print('mod(a, b)     :', mod(a, b))\n",
    "print('mul(a, b)     :', mul(a, b))\n",
    "print('pow(c,d)      :', pow(c, d))\n",
    "print('sub(b, а)     :', sub(b, a))\n",
    "print('truediv(a, b) :', truediv(a, b))\n",
    "print('truediv(d,c)  :', truediv(d, c))"
   ]
  },
  {
   "cell_type": "markdown",
   "metadata": {},
   "source": [
    "## Операторы для работы с последовательностями"
   ]
  },
  {
   "cell_type": "markdown",
   "metadata": {},
   "source": [
    "Операторы для работы c последовательностями можно разбить на четыре группы: создание последовательностей, поиск элементов, доступ к содержимому и удаление элементов последовательности."
   ]
  },
  {
   "cell_type": "code",
   "execution_count": 5,
   "metadata": {},
   "outputs": [
    {
     "name": "stdout",
     "output_type": "stream",
     "text": [
      "\n",
      "Constructive:\n",
      "    concat(a, b): [1, 2, 3, 'a', 'b', 'c']\n",
      "\n",
      "Searching:\n",
      "    contains(a, 1)  : True\n",
      "    contains(b, \"d\"): False\n",
      "    countOf(a, 1)   : 1\n",
      "    countOf(b, \"d\") : 0\n",
      "    indexOf(a, 3)   : 2\n",
      "\n",
      "Access Items:\n",
      "    getitem(b, 1)                : c\n",
      "    getitem(b, slice(1, 3))      : ['b', 'c']\n",
      "    setitem(b, 1, \"d\")           : ['a', 'd', 'c']\n",
      "    setitem(a, slice(1,3), [4,5]): [1, 4, 5]\n",
      "\n",
      "Destructive:\n",
      "    delitem(b, 1): ['a', 'c']\n",
      "    delitem(a, slice(1, 3)): [1]\n"
     ]
    }
   ],
   "source": [
    "a = [1, 2, 3]\n",
    "b = ['a', 'b', 'c']\n",
    "\n",
    "print('\\nConstructive:')\n",
    "print('    concat(a, b):', concat(a, b))\n",
    "\n",
    "print('\\nSearching:')\n",
    "print('    contains(a, 1)  :', contains(a, 1))\n",
    "print('    contains(b, \"d\"):', contains(b, \"d\"))\n",
    "print('    countOf(a, 1)   :', countOf(a, 1))\n",
    "print('    countOf(b, \"d\") :', countOf(b, \"d\"))\n",
    "print('    indexOf(a, 3)   :', indexOf(a, 3))\n",
    "\n",
    "print('\\nAccess Items:')\n",
    "print('    getitem(b, 1)                :', getitem(b, 2))\n",
    "print('    getitem(b, slice(1, 3))      :', getitem(b, slice(1, 3)))\n",
    "print('    setitem(b, 1, \"d\")           :', end=' ')\n",
    "setitem(b, 1, \"d\")\n",
    "print(b)\n",
    "print('    setitem(a, slice(1,3), [4,5]):', end=' ')\n",
    "setitem(a, slice(1, 3), [4, 5])\n",
    "print(a)\n",
    "\n",
    "print('\\nDestructive:')\n",
    "print('    delitem(b, 1):', end=' ')\n",
    "delitem(b, 1)\n",
    "print(b)\n",
    "print('    delitem(a, slice(1, 3)):', end=' ')\n",
    "delitem(a, slice(1, 3))\n",
    "print(a)"
   ]
  },
  {
   "cell_type": "markdown",
   "metadata": {},
   "source": [
    "Подробнее о модуле: <a href=\"https://docs.python.org/3/library/operator.html\" target=\"blink\">ТЫК</a>."
   ]
  },
  {
   "cell_type": "markdown",
   "metadata": {},
   "source": [
    "## Задание"
   ]
  },
  {
   "cell_type": "markdown",
   "metadata": {},
   "source": [
    "Есть три списка: \n",
    "\n",
    "list1 = [1]\n",
    "\n",
    "list2 = [1]\n",
    "\n",
    "list3 = list1\n",
    "\n",
    "Проверить списки на идентичность и объяснить выводы функции."
   ]
  },
  {
   "cell_type": "markdown",
   "metadata": {},
   "source": [
    "# contextlib"
   ]
  },
  {
   "cell_type": "markdown",
   "metadata": {},
   "source": []
  }
 ],
 "metadata": {
  "kernelspec": {
   "display_name": "Python 3",
   "language": "python",
   "name": "python3"
  },
  "language_info": {
   "codemirror_mode": {
    "name": "ipython",
    "version": 3
   },
   "file_extension": ".py",
   "mimetype": "text/x-python",
   "name": "python",
   "nbconvert_exporter": "python",
   "pygments_lexer": "ipython3",
   "version": "3.8.6"
  }
 },
 "nbformat": 4,
 "nbformat_minor": 4
}
