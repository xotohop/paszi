{
 "cells": [
  {
   "cell_type": "markdown",
   "metadata": {},
   "source": [
    "<a href=\"https://colab.research.google.com/github/xotohop/paszi/blob/master/os.ipynb\" target=\"_blank\"><img align=\"left\" src=\"https://colab.research.google.com/assets/colab-badge.svg\" alt=\"Open in Colab\" title=\"Open and Execute in Google Colaboratory\"></a>"
   ]
  },
  {
   "cell_type": "markdown",
   "metadata": {},
   "source": [
    "Если хотите потыкать в Colab, не забудьте поменять аргументы (каталоги/файлы) т.к. в аргументах мои файлы и каталоги:"
   ]
  },
  {
   "cell_type": "code",
   "execution_count": 1,
   "metadata": {},
   "outputs": [
    {
     "name": "stdout",
     "output_type": "stream",
     "text": [
      "ls\n",
      "os.ipynb  platform.ipynb  resource.ipynb\n",
      "ls ..\n",
      "os_platform_resource\n"
     ]
    }
   ],
   "source": [
    "print('ls')\n",
    "!ls\n",
    "print('ls ..')\n",
    "!ls .."
   ]
  },
  {
   "cell_type": "markdown",
   "metadata": {},
   "source": [
    "# Модуль <strong>os</strong>"
   ]
  },
  {
   "cell_type": "markdown",
   "metadata": {},
   "source": [
    "Обработка файлов в Python с помощью модуля <strong>os</strong> включает создание, переименование, перемещение, удаление файлов и папок, а также получение списка всех файлов и каталогов и многое другое. Документацию можно посмотреть <a href=\"https://docs.python.org/3/library/os.html\">тут</a>."
   ]
  },
  {
   "cell_type": "markdown",
   "metadata": {},
   "source": [
    "## <strong>Исследование содержимого файловой системы</strong>"
   ]
  },
  {
   "cell_type": "markdown",
   "metadata": {},
   "source": [
    "Чтобы подготовить список содержимого каталога файловой системы, можно использовать функцию <strong>listdir()</strong>:"
   ]
  },
  {
   "cell_type": "code",
   "execution_count": 13,
   "metadata": {},
   "outputs": [
    {
     "name": "stdout",
     "output_type": "stream",
     "text": [
      "['Готовцев_тема_7.ipynb', '08.10.txt', 'Gotovtsev_bash.ipynb', 'bash_task', 'Готовцев_тема_8.ipynb', '.ipynb_checkpoints', 'os.ipynb', 'Готовцев_тема_6.ipynb', 'timer.py']\n",
      "['test1', 'read.txt', 'etc.tar.bz2', 'htmls', 'bash.ipynb', 'a.txt', 'a4.txt']\n",
      "['.ipython', '.bash_history', '.mozilla', 'Документы', '.bashrc.original', '.viminfo', 'Музыка', '.profile', '.jupyter', '.bash_logout', 'Видео', '.cache', 'Загрузки', '.bashrc', '.Xauthority', '.xsession-errors', '.face', '.zshrc', '.ICEauthority', 'Общедоступные', '.face.icon', '.dmrc', 'passzi', '.ipynb_checkpoints', '.gnupg', 'Шаблоны', '.config', '.python_history', '.xsession-errors.old', 'Изображения', '.local', 'main.kdbx', '.conda', 'Рабочий стол']\n"
     ]
    }
   ],
   "source": [
    "import os\n",
    "print(os.listdir('.')) # в аргументе - каталог\n",
    "print(os.listdir('bash_task'))\n",
    "print(os.listdir('..'))"
   ]
  },
  {
   "cell_type": "markdown",
   "metadata": {},
   "source": [
    "Функция <strong>walk()</strong> возвращает для каждого подкаталога кортеж, содержащий три элемента: \n",
    "    \n",
    "    первый – адрес каталога, \n",
    "    второй – список его поддиректорий первого уровня, \n",
    "    третий – список имен файлов"
   ]
  },
  {
   "cell_type": "markdown",
   "metadata": {},
   "source": [
    "Если передать каталог:"
   ]
  },
  {
   "cell_type": "code",
   "execution_count": 26,
   "metadata": {},
   "outputs": [
    {
     "name": "stdout",
     "output_type": "stream",
     "text": [
      "('bash_task', ['test1', 'htmls'], ['read.txt', 'etc.tar.bz2', 'bash.ipynb', 'a.txt', 'a4.txt'])\n",
      "('bash_task/test1', [], [])\n",
      "('bash_task/htmls', [], ['001-variable-scope.html', '83.html', '5minguide.html', '103.html', '102.html', '101-unclosed-tags.html', '101.html', '001.html', '102-unquoted-attributes.html'])\n"
     ]
    }
   ],
   "source": [
    "import os\n",
    "for i in os.walk('bash_task'):\n",
    "    print(i)"
   ]
  },
  {
   "cell_type": "markdown",
   "metadata": {},
   "source": [
    "Если передать абсолютный адрес каталога:"
   ]
  },
  {
   "cell_type": "code",
   "execution_count": 27,
   "metadata": {},
   "outputs": [
    {
     "name": "stdout",
     "output_type": "stream",
     "text": [
      "('/home/x/passzi/bash_task', ['test1', 'htmls'], ['read.txt', 'etc.tar.bz2', 'bash.ipynb', 'a.txt', 'a4.txt'])\n",
      "('/home/x/passzi/bash_task/test1', [], [])\n",
      "('/home/x/passzi/bash_task/htmls', [], ['001-variable-scope.html', '83.html', '5minguide.html', '103.html', '102.html', '101-unclosed-tags.html', '101.html', '001.html', '102-unquoted-attributes.html'])\n"
     ]
    }
   ],
   "source": [
    "import os\n",
    "for i in os.walk('/home/x/passzi/bash_task'):\n",
    "    print(i)"
   ]
  },
  {
   "cell_type": "markdown",
   "metadata": {},
   "source": [
    "Можно красиво оформить вывод:"
   ]
  },
  {
   "cell_type": "code",
   "execution_count": 28,
   "metadata": {},
   "outputs": [
    {
     "name": "stdout",
     "output_type": "stream",
     "text": [
      "/home/x/passzi/bash_task\n",
      " a.txt\n",
      " a4.txt\n",
      " bash.ipynb\n",
      " etc.tar.bz2\n",
      " htmls/\n",
      " read.txt\n",
      " test1/\n",
      "\n",
      "/home/x/passzi/bash_task/test1\n",
      "\n",
      "/home/x/passzi/bash_task/htmls\n",
      " 001-variable-scope.html\n",
      " 001.html\n",
      " 101-unclosed-tags.html\n",
      " 101.html\n",
      " 102-unquoted-attributes.html\n",
      " 102.html\n",
      " 103.html\n",
      " 5minguide.html\n",
      " 83.html\n",
      "\n"
     ]
    }
   ],
   "source": [
    "import os\n",
    "for dir_name, sub_dirs, files in os.walk('/home/x/passzi/bash_task'):\n",
    "    print(dir_name)\n",
    "    sub_dirs = [n + '/' for n in sub_dirs] # заканчивать имена каталогов символом /\n",
    "    contents = sub_dirs + files # cоздать общий список подкаталогов и файлов\n",
    "    contents.sort ()\n",
    "    for c in contents:\n",
    "        print(' {}'.format(c))\n",
    "    print()"
   ]
  },
  {
   "cell_type": "markdown",
   "metadata": {},
   "source": [
    "Если вам нужна более подробная информация, используйте <strong>scandir()</strong>:"
   ]
  },
  {
   "cell_type": "code",
   "execution_count": 4,
   "metadata": {},
   "outputs": [
    {
     "name": "stdout",
     "output_type": "stream",
     "text": [
      "test1 dir\n",
      "read.txt file\n",
      "etc.tar.bz2 file\n",
      "htmls dir\n",
      "bash.ipynb file\n",
      "a.txt file\n",
      "a4.txt file\n"
     ]
    }
   ],
   "source": [
    "import os\n",
    "for entry in os.scandir('../pract/bash_task'):\n",
    "    if entry.is_dir():\n",
    "        typ = 'dir'\n",
    "    elif entry.is_file():\n",
    "        typ = 'file'\n",
    "    elif entry.is_link():\n",
    "        typ = 'link'\n",
    "    else:\n",
    "        typ = 'unknown'\n",
    "    print('{name} {typ}'.format(name = entry.name, typ = typ))"
   ]
  },
  {
   "cell_type": "markdown",
   "metadata": {},
   "source": [
    "## <strong>Управление правами доступа к файловой системе</strong>"
   ]
  },
  {
   "cell_type": "markdown",
   "metadata": {},
   "source": [
    "Что такое права можно прочитать <a href=\"https://www.zzz.com.ua/forum/-f21/chmod-777-755-666-t792.html\">тут</a> (или может стоит уже сделать <a href=\"https://de.unecon.ru/course/view.php?id=3845#section-12\">таск</a> по башу?). Более подробную информацию о файле можно получить c помощью функций <strong>stat()</strong>:"
   ]
  },
  {
   "cell_type": "code",
   "execution_count": 3,
   "metadata": {},
   "outputs": [
    {
     "name": "stdout",
     "output_type": "stream",
     "text": [
      "os.stat(../pract/Gotovtsev_bash.ipynb):\n",
      "Size: 497660\n",
      "Permissions: 0o744\n",
      "Owner: 1000\n",
      "Device: 2049\n",
      "Created: Wed Oct  7 09:05:42 2020\n",
      "Last modified: Fri Sep 25 19:08:18 2020\n",
      "Last accessed: Fri Sep 25 19:09:52 2020\n"
     ]
    }
   ],
   "source": [
    "import os\n",
    "import stat\n",
    "import time\n",
    "filename = '../pract/Gotovtsev_bash.ipynb'\n",
    "stat_info = os.stat(filename)\n",
    "print('os.stat({}):'.format(filename))\n",
    "print('Size:', stat_info.st_size)\n",
    "print('Permissions:', oct(stat.S_IMODE(stat_info.st_mode))) # oct - перевод в восьмеричное \n",
    "print('Owner:', stat_info.st_uid)\n",
    "print('Device:', stat_info.st_dev)\n",
    "print('Created:', time.ctime(stat_info.st_ctime))\n",
    "print('Last modified:', time.ctime(stat_info.st_mtime))\n",
    "print('Last accessed:', time.ctime(stat_info.st_atime))"
   ]
  },
  {
   "cell_type": "markdown",
   "metadata": {},
   "source": [
    "Для проверки прав доступа процесса к файлу следует использовать функцию <strong>access()</strong>:"
   ]
  },
  {
   "cell_type": "code",
   "execution_count": 42,
   "metadata": {},
   "outputs": [
    {
     "name": "stdout",
     "output_type": "stream",
     "text": [
      "Testing: Gotovtsev_bash.ipynb\n",
      "Exists: True\n",
      "Readable: True\n",
      "Writable: True\n",
      "Executable: False\n"
     ]
    }
   ],
   "source": [
    "import os\n",
    "filename = 'Gotovtsev_bash.ipynb'\n",
    "print('Testing:', filename)\n",
    "print('Exists:', os.access(filename, os.F_OK))\n",
    "print('Readable:', os.access(filename, os.R_OK))\n",
    "print('Writable:', os.access(filename, os.W_OK))\n",
    "print('Executable:', os.access(filename, os.X_OK))"
   ]
  },
  {
   "cell_type": "markdown",
   "metadata": {},
   "source": [
    "В случае Unix-подобных систем права доступа можно изменять c помощью функции <strong>chmod()</strong>, передавая ей режим доступа в виде целого числа. Значения режима доступа можно формировать c помощью констант, определенных в модуле <strong>stat</strong> (см. <a href=\"https://docs.python.org/3.8/library/stat.html#stat.S_ISUID\">документацию</a>). В следующем примере переключается бит разрешения на выполнение файла:"
   ]
  },
  {
   "cell_type": "code",
   "execution_count": 44,
   "metadata": {},
   "outputs": [
    {
     "name": "stdout",
     "output_type": "stream",
     "text": [
      "Adding execute permission\n"
     ]
    }
   ],
   "source": [
    "import os\n",
    "import stat\n",
    "filename = 'Gotovtsev_bash.ipynb'\n",
    "# определим, какие разрешения уже заданы, используя модуль stat\n",
    "existing_permissions = stat.S_IMODE(os.stat(filename).st_mode)\n",
    "if not os.access(filename,os.X_OK):\n",
    "    print('Adding execute permission')\n",
    "    new_permissions = existing_permissions | stat.S_IXUSR\n",
    "os.chmod(filename, new_permissions)"
   ]
  },
  {
   "cell_type": "markdown",
   "metadata": {},
   "source": [
    "Проверим права еще раз:"
   ]
  },
  {
   "cell_type": "code",
   "execution_count": 45,
   "metadata": {},
   "outputs": [
    {
     "name": "stdout",
     "output_type": "stream",
     "text": [
      "Testing: Gotovtsev_bash.ipynb\n",
      "Exists: True\n",
      "Readable: True\n",
      "Writable: True\n",
      "Executable: True\n"
     ]
    }
   ],
   "source": [
    "import os\n",
    "filename = 'Gotovtsev_bash.ipynb'\n",
    "print('Testing:', filename)\n",
    "print('Exists:', os.access(filename, os.F_OK))\n",
    "print('Readable:', os.access(filename, os.R_OK))\n",
    "print('Writable:', os.access(filename, os.W_OK))\n",
    "print('Executable:', os.access(filename, os.X_OK))"
   ]
  },
  {
   "cell_type": "markdown",
   "metadata": {},
   "source": [
    "## Создание и удаление каталогов"
   ]
  },
  {
   "cell_type": "markdown",
   "metadata": {},
   "source": [
    "Для создания и удаления каталогов предназначены два набора функций. При создании нового каталога c помощью функции <strong>mkdir()</strong> все родительские каталоги уже должны существовать. При удалении каталога c помощью функции <strong>rmdir()</strong> фактически удаляется лишь каталог, соответствующий последней части пути. В отличие от этого функции <strong>makedirs()</strong> и <strong>removedirs()</strong> оперируют в отношении всех узлов, принадлежащих данному пути. Функция <strong>makedirs()</strong> создает все части пути, которые до этого не существовали, а функция <strong>removedirs()</strong> удаляет все родительские каталог и при условии, что они пусты."
   ]
  },
  {
   "cell_type": "code",
   "execution_count": 50,
   "metadata": {},
   "outputs": [
    {
     "name": "stdout",
     "output_type": "stream",
     "text": [
      "Creating os_directories_example\n",
      "['Готовцев_тема_7.ipynb', 'os_directories_example', '08.10.txt', 'Gotovtsev_bash.ipynb', 'bash_task', 'Готовцев_тема_8.ipynb', '.ipynb_checkpoints', 'os.ipynb', 'Готовцев_тема_6.ipynb', 'timer.py']\n",
      "\n",
      "Creating os_directories_example/example.txt\n",
      "['example.txt']\n",
      "\n",
      "Cleaning up\n",
      "['Готовцев_тема_7.ipynb', '08.10.txt', 'Gotovtsev_bash.ipynb', 'bash_task', 'Готовцев_тема_8.ipynb', '.ipynb_checkpoints', 'os.ipynb', 'Готовцев_тема_6.ipynb', 'timer.py']\n"
     ]
    }
   ],
   "source": [
    "import os\n",
    "dir_name = 'os_directories_example'\n",
    "print('Creating', dir_name)\n",
    "os.makedirs(dir_name)\n",
    "print(os.listdir('.'))\n",
    "file_name = os.path.join(dir_name, 'example.txt')\n",
    "print('\\nCreating', file_name)\n",
    "with open(file_name,'wt') as f:\n",
    "    f.write('example file')\n",
    "print(os.listdir(dir_name))\n",
    "print('\\nCleaning up')\n",
    "os.unlink(file_name)\n",
    "os.rmdir(dir_name)\n",
    "print(os.listdir('.'))"
   ]
  },
  {
   "cell_type": "markdown",
   "metadata": {},
   "source": [
    "## Замена и переименование файлов"
   ]
  },
  {
   "cell_type": "markdown",
   "metadata": {},
   "source": [
    "В большинстве случаев функции <strong>rename()</strong> и <strong>replace()</strong> способны работать c использованием различных файловых систем. Переименование файла может оказаться неуспешным, если он перемещается в другую файловую систему или конечный файл уже существует."
   ]
  },
  {
   "cell_type": "code",
   "execution_count": 60,
   "metadata": {},
   "outputs": [
    {
     "name": "stdout",
     "output_type": "stream",
     "text": [
      "Starting: ['rename_start.txt']\n",
      "After rename: ['rename_finish.txt']\n",
      "Contents: 'starting as rename_start.txt'\n",
      "After replace: 'ending with contents of rename_new_contents.txt'\n"
     ]
    }
   ],
   "source": [
    "import os\n",
    "import glob\n",
    "with open('rename_start.txt', 'w') as f:\n",
    "    f.write('starting as rename_start.txt')\n",
    "print('Starting:', glob.glob('rename*.txt'))\n",
    "os.rename('rename_start.txt', 'rename_finish.txt')\n",
    "print('After rename:', glob.glob('rename*.txt'))\n",
    "with open('rename_finish.txt', 'r') as f:\n",
    "    print('Contents:', repr(f.read()))\n",
    "with open('rename_new_contents.txt', 'w') as f:\n",
    "    f.write('ending with contents of rename_new_contents.txt')\n",
    "os.replace('rename_new_contents.txt', 'rename_finish.txt')\n",
    "with open('rename_finish.txt', 'r') as f:\n",
    "    print('After replace:', repr(f.read()))\n",
    "for name in glob.glob('rename*.txt'):\n",
    "    os.unlink(name)"
   ]
  },
  {
   "cell_type": "markdown",
   "metadata": {},
   "source": [
    "## Выполнение внешних команд"
   ]
  },
  {
   "cell_type": "markdown",
   "metadata": {},
   "source": [
    "Функция <strong>system()</strong> получает единственный строковый аргумент, определяющий командную строку, которая должна быть выполнена под процессом, запускающим командную оболочку. Возвращает код её завершения (в случае успеха 0)."
   ]
  },
  {
   "cell_type": "code",
   "execution_count": 69,
   "metadata": {},
   "outputs": [
    {
     "data": {
      "text/plain": [
       "0"
      ]
     },
     "execution_count": 69,
     "metadata": {},
     "output_type": "execute_result"
    }
   ],
   "source": [
    "import os\n",
    "os.system('firefox') # откроется браузер ff"
   ]
  },
  {
   "cell_type": "markdown",
   "metadata": {},
   "source": [
    "## Задания"
   ]
  },
  {
   "cell_type": "markdown",
   "metadata": {},
   "source": [
    "1. Создать каталог с произвольным названием, добавить туда два файла, одному из них дать права на изменение всем пользователям, у другого удалить права на чтение владельцу, красиво вывести каталог с файлами, затем все это удалить.\n",
    "2. Установить любую библиотеку с помощью <strong>system()</strong>\n",
    "3. Все-таки, сделайте <a href=\"https://de.unecon.ru/course/view.php?id=3845#section-12\">задание по башу</a>)))"
   ]
  }
 ],
 "metadata": {
  "kernelspec": {
   "display_name": "Python 3",
   "language": "python",
   "name": "python3"
  },
  "language_info": {
   "codemirror_mode": {
    "name": "ipython",
    "version": 3
   },
   "file_extension": ".py",
   "mimetype": "text/x-python",
   "name": "python",
   "nbconvert_exporter": "python",
   "pygments_lexer": "ipython3",
   "version": "3.8.6"
  }
 },
 "nbformat": 4,
 "nbformat_minor": 4
}
